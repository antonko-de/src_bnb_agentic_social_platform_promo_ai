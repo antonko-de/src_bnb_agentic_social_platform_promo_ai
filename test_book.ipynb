{
 "cells": [
  {
   "cell_type": "code",
   "execution_count": 15,
   "metadata": {},
   "outputs": [],
   "source": [
    "from pydantic_settings import BaseSettings\n",
    "from pydantic import Field\n",
    "\n",
    "class Settings(BaseSettings):\n",
    "    openai_api_key: str = Field(..., env=\"OPENAI_API_KEY\")\n",
    "    \n",
    "    # models used by different agents\n",
    "    market_intelligence_agent_model: str = Field(default=\"gpt-4o-mini\", env=\"MARKET_INTELLIGENCE_AGENT_MODEL\")\n",
    "    content_creation_agent_model: str = Field(default=\"gpt-4o-mini\", env=\"CONTENT_CREATION_AGENT_MODEL\")\n",
    "    pricing_optimization_agent_model: str = Field(default=\"gpt-4o-mini\", env=\"PRICING_OPTIMIZATION_AGENT_MODEL\")\n",
    "    campaing_management_agent_model: str = Field(default=\"gpt-4o-mini\", env=\"CAMPAIGN_MANAGEMENT_AGENT_MODEL\")\n",
    "    \n",
    "    max_tokens: int = Field(..., config_name=\"max_tokens\")\n",
    "    \n",
    "    #database and rag\n",
    "    database_url: str = Field(default=\"sqlite:///./airbnb_agents.db\", env=\"DATABASE_URL\")\n",
    "    class Config:\n",
    "        env_file = \".env\"\n",
    "        yaml_file = \"config.yaml\"\n",
    "\n",
    "\n",
    "\n",
    "settings = Settings()"
   ]
  },
  {
   "cell_type": "code",
   "execution_count": 16,
   "metadata": {},
   "outputs": [
    {
     "data": {
      "text/plain": [
       "1000"
      ]
     },
     "execution_count": 16,
     "metadata": {},
     "output_type": "execute_result"
    }
   ],
   "source": [
    "settings.max_tokens"
   ]
  },
  {
   "cell_type": "code",
   "execution_count": null,
   "metadata": {},
   "outputs": [],
   "source": []
  }
 ],
 "metadata": {
  "kernelspec": {
   "display_name": ".venv",
   "language": "python",
   "name": "python3"
  },
  "language_info": {
   "codemirror_mode": {
    "name": "ipython",
    "version": 3
   },
   "file_extension": ".py",
   "mimetype": "text/x-python",
   "name": "python",
   "nbconvert_exporter": "python",
   "pygments_lexer": "ipython3",
   "version": "3.12.3"
  }
 },
 "nbformat": 4,
 "nbformat_minor": 2
}
